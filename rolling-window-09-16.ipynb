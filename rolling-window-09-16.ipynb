{
 "cells": [
  {
   "cell_type": "code",
   "execution_count": 1,
   "metadata": {},
   "outputs": [],
   "source": [
    "import pandas as pd\n",
    "import sqlite3 as sql\n",
    "import sqlalchemy as alc\n",
    "import plotly.figure_factory as fig\n",
    "import pyarrow.feather as feather\n",
    "import utils.feather_cache as feather_cache\n",
    "import seaborn as sns\n",
    "import numpy as np\n",
    "import display.heatmap as heatmap\n",
    "import matplotlib.pyplot as plt\n",
    "from data_types import tables\n",
    "from data_types import pcap_sqlite_db\n",
    "from display import formatter\n",
    "from views.algo_order_fills import display as algo_order_display\n",
    "from matplotlib.colors import ListedColormap, LinearSegmentedColormap\n"
   ]
  },
  {
   "cell_type": "code",
   "execution_count": 3,
   "metadata": {},
   "outputs": [
    {
     "ename": "TypeError",
     "evalue": "Argument 'table' has incorrect type (expected pyarrow.lib.Table, got str)",
     "output_type": "error",
     "traceback": [
      "\u001b[0;31m---------------------------------------------------------------------------\u001b[0m",
      "\u001b[0;31mTypeError\u001b[0m                                 Traceback (most recent call last)",
      "\u001b[0;32m<ipython-input-3-d4e73f757494>\u001b[0m in \u001b[0;36m<module>\u001b[0;34m\u001b[0m\n\u001b[1;32m      2\u001b[0m \u001b[0mpcap_tables\u001b[0m \u001b[0;34m=\u001b[0m \u001b[0mpcap_sqlite_db\u001b[0m\u001b[0;34m.\u001b[0m\u001b[0mread_tables\u001b[0m\u001b[0;34m(\u001b[0m\u001b[0mcon\u001b[0m\u001b[0;34m=\u001b[0m\u001b[0msim_con\u001b[0m\u001b[0;34m)\u001b[0m\u001b[0;34m\u001b[0m\u001b[0;34m\u001b[0m\u001b[0m\n\u001b[1;32m      3\u001b[0m \u001b[0;32mfor\u001b[0m \u001b[0mkv\u001b[0m \u001b[0;32min\u001b[0m \u001b[0mpcap_tables\u001b[0m\u001b[0;34m.\u001b[0m\u001b[0mitems\u001b[0m\u001b[0;34m(\u001b[0m\u001b[0;34m)\u001b[0m\u001b[0;34m:\u001b[0m\u001b[0;34m\u001b[0m\u001b[0;34m\u001b[0m\u001b[0m\n\u001b[0;32m----> 4\u001b[0;31m     \u001b[0mfeather\u001b[0m\u001b[0;34m.\u001b[0m\u001b[0mwrite_feather\u001b[0m\u001b[0;34m(\u001b[0m\u001b[0;34mf'data/cache/310/09-16/{kv[0]}.feather'\u001b[0m\u001b[0;34m,\u001b[0m \u001b[0mkv\u001b[0m\u001b[0;34m[\u001b[0m\u001b[0;36m1\u001b[0m\u001b[0;34m]\u001b[0m\u001b[0;34m)\u001b[0m\u001b[0;34m\u001b[0m\u001b[0;34m\u001b[0m\u001b[0m\n\u001b[0m",
      "\u001b[0;32m~/anaconda3/envs/jupyter39/lib/python3.9/site-packages/pyarrow/feather.py\u001b[0m in \u001b[0;36mwrite_feather\u001b[0;34m(df, dest, compression, compression_level, chunksize, version)\u001b[0m\n\u001b[1;32m    180\u001b[0m \u001b[0;34m\u001b[0m\u001b[0m\n\u001b[1;32m    181\u001b[0m     \u001b[0;32mtry\u001b[0m\u001b[0;34m:\u001b[0m\u001b[0;34m\u001b[0m\u001b[0;34m\u001b[0m\u001b[0m\n\u001b[0;32m--> 182\u001b[0;31m         ext.write_feather(table, dest, compression=compression,\n\u001b[0m\u001b[1;32m    183\u001b[0m                           \u001b[0mcompression_level\u001b[0m\u001b[0;34m=\u001b[0m\u001b[0mcompression_level\u001b[0m\u001b[0;34m,\u001b[0m\u001b[0;34m\u001b[0m\u001b[0;34m\u001b[0m\u001b[0m\n\u001b[1;32m    184\u001b[0m                           chunksize=chunksize, version=version)\n",
      "\u001b[0;31mTypeError\u001b[0m: Argument 'table' has incorrect type (expected pyarrow.lib.Table, got str)"
     ]
    }
   ],
   "source": [
    "sim_con = sql.connect('data/310/2020-09-16_310_24h.sqlite')\n",
    "pcap_tables = pcap_sqlite_db.read_tables(con=sim_con)\n"
   ]
  },
  {
   "cell_type": "code",
   "execution_count": 6,
   "metadata": {},
   "outputs": [],
   "source": [
    "for kv in pcap_tables.items():\n",
    "    if kv[0] == 'event_items':\n",
    "        tables.cast_column_types(kv[0], kv[1])\n",
    "    else:\n",
    "        tables.cast_column_types(None, kv[1])"
   ]
  },
  {
   "cell_type": "code",
   "execution_count": 16,
   "metadata": {},
   "outputs": [],
   "source": [
    "for kv in pcap_tables.items():\n",
    "    feather.write_feather(kv[1], f'data/cache/310/09-16/{kv[0]}.feather')"
   ]
  },
  {
   "cell_type": "code",
   "execution_count": 2,
   "metadata": {},
   "outputs": [],
   "source": [
    "def sample_limit(df: pd.DataFrame, max_rows = 25):\n",
    "    if len(df) > max_rows:\n",
    "        return df.sample(max_rows)\n",
    "    return df\n",
    "\n",
    "def print_pretty(df: pd.DataFrame, max_rows = 25, print_row_count = False):\n",
    "    col_styles = {}\n",
    "    for c in df.columns:\n",
    "       if 'price' in c or 'avg' in c or 'profit' in c or 'bid_p' in c or 'ask_p' in c:\n",
    "          col_styles[c] = \"{:.2f}\"\n",
    "       elif 'timestamp' in c:\n",
    "          col_styles[c] = lambda t: f'{t.total_seconds():.2f}'\n",
    "\n",
    "    for c in df.columns:\n",
    "       if 'price' in c or 'avg' in c or 'profit' in c or 'var' in c:\n",
    "          col_styles[c] = \"{:.2f}\"\n",
    "       elif 'timestamp' in c:\n",
    "          col_styles[c] = lambda t: f'{t.total_seconds():.2f}'\n",
    "    if print_row_count:\n",
    "        print(f'Total Rows: {len(df)} (sample {max_rows}).')\n",
    "    df = sample_limit(df)\n",
    "    colset = list(set(['fill_profit_delta'] + tables.bbo_var_cols(1) + tables.bbo_var_inter_period_delta(1, 5)).intersection(set([c.split(' ')[0] for c in df.columns])))\n",
    "    print(f\"set is {colset}\")\n",
    "    return df.style.format(col_styles).set_table_styles([\n",
    "       dict(selector='tr', props=[('text-align', 'right')])\n",
    "       #dict(selector='tr', props=[('background', '#88ff0000')])\n",
    "    ]).background_gradient(cmap=LinearSegmentedColormap.from_list('', [(0,0,1), (1,1,1), (1,0,0)]), subset=colset)\n",
    "    #.background_gradient(cmap=LinearSegmentedColormap.from_list('', [(0,0,1), (1,1,1), (1, 0, 0)]), subset=['bid_p_0_var_1s'])"
   ]
  },
  {
   "cell_type": "code",
   "execution_count": 17,
   "metadata": {},
   "outputs": [],
   "source": [
    "for table in ['events', 'event_items']:\n",
    "    pcap_tables[table]['t_timestamp'] = pcap_tables[table]['t_time'].apply(lambda t: pd.Timestamp(t, unit='ns'))"
   ]
  },
  {
   "cell_type": "code",
   "execution_count": 19,
   "metadata": {},
   "outputs": [
    {
     "ename": "NameError",
     "evalue": "name 'events' is not defined",
     "output_type": "error",
     "traceback": [
      "\u001b[0;31m---------------------------------------------------------------------------\u001b[0m",
      "\u001b[0;31mNameError\u001b[0m                                 Traceback (most recent call last)",
      "\u001b[0;32m<ipython-input-19-34128ee8e207>\u001b[0m in \u001b[0;36m<module>\u001b[0;34m\u001b[0m\n\u001b[1;32m      9\u001b[0m \u001b[0;32mfor\u001b[0m \u001b[0mkv\u001b[0m \u001b[0;32min\u001b[0m \u001b[0msec_book_stats\u001b[0m\u001b[0;34m.\u001b[0m\u001b[0mitems\u001b[0m\u001b[0;34m(\u001b[0m\u001b[0;34m)\u001b[0m\u001b[0;34m:\u001b[0m\u001b[0;34m\u001b[0m\u001b[0;34m\u001b[0m\u001b[0m\n\u001b[1;32m     10\u001b[0m     \u001b[0mtables\u001b[0m\u001b[0;34m.\u001b[0m\u001b[0madd_row_book_stat_deltas\u001b[0m\u001b[0;34m(\u001b[0m\u001b[0mkv\u001b[0m\u001b[0;34m[\u001b[0m\u001b[0;36m1\u001b[0m\u001b[0;34m]\u001b[0m\u001b[0;34m)\u001b[0m\u001b[0;34m\u001b[0m\u001b[0;34m\u001b[0m\u001b[0m\n\u001b[0;32m---> 11\u001b[0;31m     \u001b[0mkv\u001b[0m\u001b[0;34m[\u001b[0m\u001b[0;36m1\u001b[0m\u001b[0;34m]\u001b[0m \u001b[0;34m=\u001b[0m \u001b[0mkv\u001b[0m\u001b[0;34m[\u001b[0m\u001b[0;36m1\u001b[0m\u001b[0;34m]\u001b[0m\u001b[0;34m.\u001b[0m\u001b[0mmerge\u001b[0m\u001b[0;34m(\u001b[0m\u001b[0mevents\u001b[0m\u001b[0;34m[\u001b[0m\u001b[0;34m[\u001b[0m\u001b[0;34m'eid'\u001b[0m\u001b[0;34m,\u001b[0m \u001b[0;34m't_timestamp'\u001b[0m\u001b[0;34m]\u001b[0m\u001b[0;34m]\u001b[0m\u001b[0;34m,\u001b[0m \u001b[0mon\u001b[0m\u001b[0;34m=\u001b[0m\u001b[0;34m'eid'\u001b[0m\u001b[0;34m)\u001b[0m\u001b[0;34m\u001b[0m\u001b[0;34m\u001b[0m\u001b[0m\n\u001b[0m",
      "\u001b[0;31mNameError\u001b[0m: name 'events' is not defined"
     ]
    }
   ],
   "source": [
    "book_stats = feather.read_feather('data/cache/310/09-16/book_stats.feather')\n",
    "sec_book_stat_groups = book_stats.groupby('sid')\n",
    "sec_book_stats = {\n",
    "    'u0': sec_book_stat_groups.get_group(12181)\n",
    "}\n",
    "sec_book_stats['u0'].set_index('eid', inplace=True)\n",
    "sec_book_stats['u0'].sort_values(by='eid', inplace=True)\n",
    "sec_book_stats['u0'] = tables.merge_book_stat_sides(sec_book_stats['u0'])\n",
    "for kv in sec_book_stats.items():\n",
    "    tables.add_row_book_stat_deltas(kv[1])\n",
    "    kv[1] = kv[1].merge(pcap_tables['events'][['eid', 't_timestamp']], on='eid')"
   ]
  }
 ],
 "metadata": {
  "kernelspec": {
   "display_name": "Python 3.9.1 64-bit ('jupyter39': conda)",
   "metadata": {
    "interpreter": {
     "hash": "04189f45b7934f1a5833d2a2c45dcf3f35a43f6cb04411c149fc140228cb6840"
    }
   },
   "name": "python3"
  },
  "language_info": {
   "codemirror_mode": {
    "name": "ipython",
    "version": 3
   },
   "file_extension": ".py",
   "mimetype": "text/x-python",
   "name": "python",
   "nbconvert_exporter": "python",
   "pygments_lexer": "ipython3",
   "version": "3.9.1"
  },
  "orig_nbformat": 2
 },
 "nbformat": 4,
 "nbformat_minor": 2
}